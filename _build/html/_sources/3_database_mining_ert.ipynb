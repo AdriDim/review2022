{
 "cells": [
  {
   "cell_type": "markdown",
   "id": "F94-RfDfD3GF",
   "metadata": {
    "id": "F94-RfDfD3GF"
   },
   "source": [
    "# Mining ERT database\n",
    "\n",
    "This webpage presents the database of studies applying **Electrical Resistivity Tomography** (ERT) in the context of **mining wastes**. **Over 100 studies** using ERT, published from 1990 to 2020, have been identified for the review. Each study has been classified according to the type of application. \n",
    "\n",
    "This database may be of help to describe the **developments of ERT** for mining waste **valorization**, mining waste **characterization** and mining waste **stability monitoring**. You may also use it to **find relevant references** for your field of expertise !\n",
    "\n",
    "Moreover, this review helps identifying **future promising applications of TL-ERT for long-term mining waste monitoring**."
   ]
  },
  {
   "cell_type": "markdown",
   "id": "e9124658",
   "metadata": {},
   "source": [
    "```{admonition} Download\n",
    "Feel free to **explore** and **download** the database .csv file [in the github project](https://github.com/AdriDim/review2022) after citing us! \n",
    "```"
   ]
  },
  {
   "cell_type": "markdown",
   "id": "1e004001",
   "metadata": {},
   "source": [
    "## Quick look at the database\n",
    "\n",
    "The **mining waste ERT database** references published studies from 1990 to 2020 using ERT for mining waste imaging and monitoring. Each study is identified by an unique **ID** (the name of the main author and the year of publication). Other characteristics have also been recorded in the database such as the **title** of the study, the **journal** where it has been published, the **type of application**, the **country** where the study has been carried out and others.\n",
    "\n",
    "As described in the review, the types of applications have been classified into three broader categories : \n",
    "- **Mining waste valorization** _(Tool for heap leaching, revalorization of mineralized wastes)_\n",
    "- **Mining waste characterization** _(Waste characterization, acid mine drainage detection)_\n",
    "- **Mining waste monitoring** _(Geochemical and geotechnical mining waste stability monitoring)_\n",
    "\n",
    "### Example of ERT for acid mine drainage (AMD) detection\n",
    "\n",
    "```{admonition} Example !\n",
    "Here is an example for studies using ERT to detect and map AMD. \n",
    "```"
   ]
  },
  {
   "cell_type": "code",
   "execution_count": null,
   "id": "RpCZarTqIPl-",
   "metadata": {
    "cellView": "form",
    "id": "RpCZarTqIPl-",
    "tags": [
     "remove-input",
     "remove-output"
    ]
   },
   "outputs": [],
   "source": [
    "import pandas as pd\n",
    "url='https://raw.githubusercontent.com/AdriDim/review2022/main/data/database_ert_mining_studies.csv'\n",
    "df = pd.read_csv(url, skiprows=0, sep=';')\n",
    "df.columns"
   ]
  },
  {
   "cell_type": "code",
   "execution_count": null,
   "id": "c05707d2",
   "metadata": {
    "tags": [
     "remove-input"
    ]
   },
   "outputs": [],
   "source": [
    "df_loc = df[df['Type of application'] =='AMD detection']\n",
    "df_loc = df_loc[['ID', 'Title', 'Journal', 'Type of application', 'Country']]\n",
    "df_loc.head(20)"
   ]
  },
  {
   "cell_type": "markdown",
   "id": "6a1b12e8",
   "metadata": {},
   "source": [
    ":::{note} \n",
    "**Cite us**: \n",
    "Dimech, A., Cheng, L.Z., Chouteau, M., Chambers, J.E., Uhlemann, S., & Wilkinson, P.B., Meldrum, P.I., Mary, B., Fabien-Ouellet, G., & Isabelle, A. (**2022**). A review on  applications of time-lapse electrical resistivity tomography over the last 30 years : perspectives for mining waste monitoring. \n",
    "_submitted to Engineering Geology_.\n",
    ":::"
   ]
  },
  {
   "cell_type": "markdown",
   "id": "398c644a",
   "metadata": {},
   "source": [
    "## Explore the 'ERT for mining waste' database"
   ]
  },
  {
   "cell_type": "code",
   "execution_count": null,
   "id": "84819387",
   "metadata": {
    "tags": [
     "remove-input"
    ]
   },
   "outputs": [],
   "source": [
    "df_loc = df.sort_values(['Year'], ascending=True)\n",
    "\n",
    "from bokeh.plotting import figure, show, output_notebook\n",
    "output_notebook()\n",
    "\n",
    "from bokeh.models import ColumnDataSource, DataTable, DateFormatter, TableColumn\n",
    "\n",
    "\n",
    "columns = [TableColumn(field=Ci, title=Ci) for Ci in df_loc.columns]\n",
    "\n",
    "data_table_3 = DataTable(columns=columns, \n",
    "                       source=ColumnDataSource(df_loc), \n",
    "                       height = 500,\n",
    "                       width = 800,\n",
    "                       autosize_mode='fit_columns')"
   ]
  },
  {
   "cell_type": "code",
   "execution_count": null,
   "id": "4786e96b",
   "metadata": {
    "tags": [
     "remove-input"
    ]
   },
   "outputs": [],
   "source": [
    "show(data_table_3)"
   ]
  },
  {
   "cell_type": "code",
   "execution_count": null,
   "id": "88fcd271",
   "metadata": {
    "tags": [
     "remove-input"
    ]
   },
   "outputs": [],
   "source": [
    "df.head(0)"
   ]
  },
  {
   "cell_type": "code",
   "execution_count": null,
   "id": "b6422916",
   "metadata": {},
   "outputs": [],
   "source": []
  }
 ],
 "metadata": {
  "celltoolbar": "Tags",
  "colab": {
   "collapsed_sections": [],
   "name": "1_database_mining_waste.ipynb",
   "provenance": []
  },
  "iooxa": null,
  "kernelspec": {
   "display_name": "Python 3",
   "language": "python",
   "name": "python3"
  },
  "language_info": {
   "codemirror_mode": {
    "name": "ipython",
    "version": 3
   },
   "file_extension": ".py",
   "mimetype": "text/x-python",
   "name": "python",
   "nbconvert_exporter": "python",
   "pygments_lexer": "ipython3",
   "version": "3.6.3"
  },
  "nteract": {
   "version": "0.28.0"
  }
 },
 "nbformat": 4,
 "nbformat_minor": 5
}
