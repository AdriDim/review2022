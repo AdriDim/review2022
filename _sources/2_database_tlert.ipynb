{
 "cells": [
  {
   "cell_type": "markdown",
   "id": "F94-RfDfD3GF",
   "metadata": {
    "id": "F94-RfDfD3GF"
   },
   "source": [
    "# TL-ERT database\n",
    "\n",
    "This webpage presents the **Time-Lapse Electrical Resistivity Tomography** (TL-ERT) database. **Over 650 studies** using TL-ERT, published from 1990 to 2020, have been identified for the review. Each study has been classified according to the type of application, the monitoring strategy and other relevant characteristics. \n",
    "\n",
    "This database may be of help to describe the **dynamics of TL-ERT** for each field of application. You may also use it to **find relevant references** for your field of expertise !"
   ]
  },
  {
   "cell_type": "markdown",
   "id": "e9124658",
   "metadata": {},
   "source": [
    "```{admonition} Download\n",
    "Feel free to **explore** and **download** the database .csv file [in the github project](https://github.com/AdriDim/review2022) after citing us! \n",
    "```"
   ]
  },
  {
   "cell_type": "markdown",
   "id": "1e004001",
   "metadata": {},
   "source": [
    "## Quick look at the database\n",
    "\n",
    "The **TL-ERT database** references published studies from 1990 to 2020 using TL-ERT for subsurface monitoring. Each study is identified by an unique **ID** (the name of the main author and the year of publication). Other characteristics have also been recorded in the database such as the **title** of the study, the **journal** where it has been published, the **field of application**, the **country** where the study has been carried out and others.\n",
    "\n",
    "As described in the review, the fields of applications have been classified into four broader categories : \n",
    "- **Hydrogeo-thermal monitoring** _(Hydrogeological, geothermal and volcanology studies)_\n",
    "- **Environmnental monitoring** _(Contaminant, saline intrusion and mining waste monitoring)_\n",
    "- **Geotechnical monitoring** _(Insfrastructure, landslide and permafrost imaging)_\n",
    "- **Ecological monitoring** _(Vegetation and CO2 storage monitoring)_\n",
    "\n",
    "### Example of permafrost TL-ERT studies\n",
    "\n",
    "```{admonition} Example !\n",
    "Here is an example for 10 studies using TL-ERT in the context of permafrost monitoring. \n",
    "```"
   ]
  },
  {
   "cell_type": "code",
   "execution_count": null,
   "id": "RpCZarTqIPl-",
   "metadata": {
    "cellView": "form",
    "id": "RpCZarTqIPl-",
    "tags": [
     "remove-input",
     "remove-output"
    ]
   },
   "outputs": [],
   "source": [
    "import pandas as pd\n",
    "url='https://raw.githubusercontent.com/AdriDim/review2022/main/data/database_tlert_studies.csv'\n",
    "df = pd.read_csv(url, skiprows=0, sep=';')"
   ]
  },
  {
   "cell_type": "code",
   "execution_count": null,
   "id": "c05707d2",
   "metadata": {
    "tags": [
     "remove-input"
    ]
   },
   "outputs": [],
   "source": [
    "df_loc = df[df['Field of application'] =='Permafrost']\n",
    "df_loc = df_loc[['ID', 'Title', 'Journal', 'Field of application', 'Country']]\n",
    "df_loc.sort_values(by = ['ID'], ascending = True).head(10)"
   ]
  },
  {
   "cell_type": "markdown",
   "id": "5f44c01c",
   "metadata": {},
   "source": [
    "### Example of semi-permanent TL-ERT studies\n",
    "\n",
    "The **semi-permanent surveys** have been identified among all TL-ERT studies. As defined by Whiteley et al. (2019), semi-permanent surveys generally use dedicated resistivity meters left in the field all year to carry out autonomous measurements. This type of monitoring approach has been identified as particularly promising for long-term monitoring of mining waste in the review, which focuses on this application.\n",
    "\n",
    "```{admonition} Example !\n",
    "Here is an example for 5 studies using semi-permanent TL-ERT in the context of landslide monitoring. \n",
    "The temporal parameters of the survey are presented (_duration of the survey, nb of snapshots, temporal resolution_).\n",
    "```"
   ]
  },
  {
   "cell_type": "code",
   "execution_count": null,
   "id": "fb9b4ead",
   "metadata": {
    "tags": [
     "remove-input"
    ]
   },
   "outputs": [],
   "source": [
    "# Example of semi-permanent studies for landslide : Temporal resolution !\n",
    "df_loc = df[df['Field of application'] =='Landslide']\n",
    "df_loc = df_loc[df_loc['Type of survey'] =='Semi-permanent']\n",
    "\n",
    "\n",
    "df_loc_temp = df_loc[['ID', 'Title', 'Type of survey', 'Field of application', 'Site name', 'Duration (days)', 'NB snapshots', 'Frequency (snapshot/day)']]\n",
    "df_loc_temp.sort_values(by = ['ID'], ascending = True).head(5)"
   ]
  },
  {
   "cell_type": "markdown",
   "id": "3504ef4f",
   "metadata": {},
   "source": [
    "Note that other characteristics are also recorded in the database for semi-permanent studies.\n",
    "\n",
    "```{admonition} Example !\n",
    "Here is an example for 5 studies using semi-permanent TL-ERT in the context of landslide monitoring. \n",
    "The spatial parameters of the survey are presented (_electrode spacing, nb of electrodes, resistivity meter used_).\n",
    "```"
   ]
  },
  {
   "cell_type": "code",
   "execution_count": null,
   "id": "8cc92bb9",
   "metadata": {
    "tags": [
     "remove-input"
    ]
   },
   "outputs": [],
   "source": [
    "df_loc_spat = df_loc[['ID', 'Title', 'Type of survey', 'Field of application', 'ERT layout',\n",
    "                      'Surface (m)', 'Electrode spacing (m) ', 'Config Elec', 'Nb Elec', 'Resistivimeter']]\n",
    "df_loc_spat.sort_values(by = ['ID'], ascending = True).head(5)"
   ]
  },
  {
   "cell_type": "markdown",
   "id": "6a1b12e8",
   "metadata": {},
   "source": [
    ":::{note} \n",
    "**Cite us**: \n",
    "Dimech, A., Cheng, L.Z., Chouteau, M., Chambers, J.E., Uhlemann, S., & Wilkinson, P.B., Meldrum, P.I., Mary, B., Fabien-Ouellet, G., & Isabelle, A. (**2022**). A review on  applications of time-lapse electrical resistivity tomography over the last 30 years : perspectives for mining waste monitoring. \n",
    "_submitted to Engineering Geology_.\n",
    ":::\n",
    "\n",
    "[![DOI](https://zenodo.org/badge/465892724.svg)](https://zenodo.org/badge/latestdoi/465892724)"
   ]
  },
  {
   "cell_type": "markdown",
   "id": "087bc135",
   "metadata": {},
   "source": [
    "### Explore TL-ERT studies on a map"
   ]
  },
  {
   "cell_type": "markdown",
   "id": "5a2e5ab8",
   "metadata": {},
   "source": [
    ":::{figure-md} markdown-fig\n",
    "<img src='https://raw.githubusercontent.com/AdriDim/review2022/main/image/tlert_map.svg' alt=\"tlert_map\" class=\"bg-primary mb-1\" width=\"800px\">\n",
    "\n",
    "Distribution of TL-ERT studies from 1990 to 2020 on a map, \n",
    "number of published studies for the top-10 countries.\n",
    ":::"
   ]
  },
  {
   "cell_type": "markdown",
   "id": "398c644a",
   "metadata": {},
   "source": [
    "## Explore the 'TL-ERT' database"
   ]
  },
  {
   "cell_type": "code",
   "execution_count": null,
   "id": "84819387",
   "metadata": {
    "tags": [
     "remove-input"
    ]
   },
   "outputs": [],
   "source": [
    "df_loc = df.sort_values(['Year'], ascending=True)\n",
    "\n",
    "from bokeh.plotting import figure, show, output_notebook\n",
    "output_notebook()\n",
    "\n",
    "from bokeh.models import ColumnDataSource, DataTable, DateFormatter, TableColumn\n",
    "\n",
    "\n",
    "columns = [TableColumn(field=Ci, title=Ci) for Ci in df_loc.columns]\n",
    "\n",
    "data_table_2 = DataTable(columns=columns, \n",
    "                       source=ColumnDataSource(df_loc), \n",
    "                       height = 500, \n",
    "                       width = 800,\n",
    "                       autosize_mode='fit_columns')"
   ]
  },
  {
   "cell_type": "code",
   "execution_count": null,
   "id": "4786e96b",
   "metadata": {
    "tags": [
     "remove-input"
    ]
   },
   "outputs": [],
   "source": [
    "show(data_table_2)"
   ]
  },
  {
   "cell_type": "code",
   "execution_count": null,
   "id": "11074a2c",
   "metadata": {
    "tags": [
     "remove-input"
    ]
   },
   "outputs": [],
   "source": [
    "df.head(0)"
   ]
  },
  {
   "cell_type": "code",
   "execution_count": null,
   "id": "89919bd4",
   "metadata": {},
   "outputs": [],
   "source": []
  }
 ],
 "metadata": {
  "celltoolbar": "Tags",
  "colab": {
   "collapsed_sections": [],
   "name": "1_database_mining_waste.ipynb",
   "provenance": []
  },
  "iooxa": null,
  "kernelspec": {
   "display_name": "Python 3",
   "language": "python",
   "name": "python3"
  },
  "language_info": {
   "codemirror_mode": {
    "name": "ipython",
    "version": 3
   },
   "file_extension": ".py",
   "mimetype": "text/x-python",
   "name": "python",
   "nbconvert_exporter": "python",
   "pygments_lexer": "ipython3",
   "version": "3.6.3"
  },
  "nteract": {
   "version": "0.28.0"
  }
 },
 "nbformat": 4,
 "nbformat_minor": 5
}
