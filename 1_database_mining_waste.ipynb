{
 "cells": [
  {
   "cell_type": "markdown",
   "id": "F94-RfDfD3GF",
   "metadata": {
    "id": "F94-RfDfD3GF"
   },
   "source": [
    "# Mining waste database\n",
    "\n",
    "Explore the mining waste database accross Canada built from Google Earth satellite imagery. The mining sites have been identified from the **Global Tailings Portal** and several other sources including **Canadian National Pollutant Release Inventory (NPRI)**, **United States Geological Survey (USGS)** and **International Commission on Large Dams (ICOLD)** databases."
   ]
  },
  {
   "cell_type": "markdown",
   "id": "e9124658",
   "metadata": {},
   "source": [
    "```{admonition} Download\n",
    "Feel free to **explore** and **download** the database .csv file [in the github project](https://github.com/AdriDim/review2022) after citing us! \n",
    "```"
   ]
  },
  {
   "cell_type": "markdown",
   "id": "1e004001",
   "metadata": {},
   "source": [
    "## Quick look at the database\n",
    "\n",
    "The **mining waste database** references the mining waste disposal sites. Each site is identified by an unique **id**. The latitude and longitude columns could help to locate the site (expressed in decimal degrees). The surface of **tailing storage facilities** (TSF), **waste rock piles** (WRP) and **open-pits** (PIT) have been calculated in **hectares**. The **province** in which the mining site is located is also recorded.\n",
    "\n",
    "_(AB = Alberta, BC = British Columbia, MB = Manitoba, NB = New Brunswick, NL = Newfoundland and Labrador, NS = Nova Scotia, ON = Ontario, PE = Prince Edward Island, QC = Quebec, SK = Saskatchewan)_\n",
    "\n",
    "```{admonition} Example !\n",
    "Here is an example for the **10 biggest mining sites in Quebec** province (in total surface). \n",
    "```\n"
   ]
  },
  {
   "cell_type": "code",
   "execution_count": null,
   "id": "RpCZarTqIPl-",
   "metadata": {
    "cellView": "form",
    "id": "RpCZarTqIPl-",
    "tags": [
     "remove-input",
     "remove-output"
    ]
   },
   "outputs": [],
   "source": [
    "import pandas as pd\n",
    "url='https://raw.githubusercontent.com/AdriDim/review2022/main/data/database_mining_waste_canada.csv'\n",
    "df = pd.read_csv(url, skiprows=0, sep=';')"
   ]
  },
  {
   "cell_type": "code",
   "execution_count": null,
   "id": "c05707d2",
   "metadata": {
    "tags": [
     "remove-input"
    ]
   },
   "outputs": [],
   "source": [
    "df_loc = df[df['PROV'] =='QC']\n",
    "df_loc.sort_values(by = ['TOT(ha)'], ascending = False).head(10)"
   ]
  },
  {
   "cell_type": "markdown",
   "id": "6a1b12e8",
   "metadata": {},
   "source": [
    ":::{note} \n",
    "**Cite us**: \n",
    "Dimech, A., Cheng, L.Z., Chouteau, M., Chambers, J.E., Uhlemann, S., & Wilkinson, P.B., Meldrum, P.I., Mary, B., Fabien-Ouellet, G., & Isabelle, A. (**2022**). A review on  applications of time-lapse electrical resistivity tomography over the last 30 years : perspectives for mining waste monitoring. \n",
    "_submitted to Engineering Geology_.\n",
    ":::"
   ]
  },
  {
   "cell_type": "markdown",
   "id": "1483877a",
   "metadata": {},
   "source": [
    "## Explore the 'Canadian mining wastes' database\n",
    "\n",
    "Here is the total database containing over 400 mining sites accross Canada:"
   ]
  },
  {
   "cell_type": "code",
   "execution_count": null,
   "id": "84819387",
   "metadata": {
    "tags": [
     "remove-input"
    ]
   },
   "outputs": [],
   "source": [
    "df_loc = df.sort_values(['TOT(ha)'], ascending=False)\n",
    "\n",
    "from bokeh.plotting import output_notebook\n",
    "output_notebook()\n",
    "\n",
    "from bokeh.models import ColumnDataSource, DataTable, TableColumn\n",
    "from bokeh.plotting import show\n",
    "\n",
    "columns = [TableColumn(field=Ci, title=Ci) for Ci in df_loc.columns]\n",
    "\n",
    "data_table_1 = DataTable(columns=columns, \n",
    "                       source=ColumnDataSource(df_loc),\n",
    "                       height = 500, \n",
    "                       width = 800,\n",
    "                       autosize_mode='fit_columns')"
   ]
  },
  {
   "cell_type": "code",
   "execution_count": null,
   "id": "4786e96b",
   "metadata": {
    "tags": [
     "remove-input"
    ]
   },
   "outputs": [],
   "source": [
    "show(data_table_1)"
   ]
  },
  {
   "cell_type": "code",
   "execution_count": null,
   "id": "88c9391d",
   "metadata": {
    "tags": [
     "remove-input"
    ]
   },
   "outputs": [],
   "source": [
    "df.head(0)"
   ]
  },
  {
   "cell_type": "markdown",
   "id": "11a1dc61",
   "metadata": {},
   "source": [
    "```{admonition} Important note!\n",
    ":class: tip\n",
    "Please note that quarry operations might have been included in the database since a quarry open-pit looks pretty much like a mine open-pit from satellite imagery. However, quarry operations do not cover significant surface when compared to mining operations, and the total contribution of quarries in terms of surface is expected to be negligible !\n",
    "\n",
    "Please also note that some TSFs could have been identified as WRPs (or the contrary) !\n",
    "```"
   ]
  }
 ],
 "metadata": {
  "celltoolbar": "Tags",
  "colab": {
   "collapsed_sections": [],
   "name": "1_database_mining_waste.ipynb",
   "provenance": []
  },
  "iooxa": null,
  "kernelspec": {
   "display_name": "Python 3",
   "language": "python",
   "name": "python3"
  },
  "language_info": {
   "codemirror_mode": {
    "name": "ipython",
    "version": 3
   },
   "file_extension": ".py",
   "mimetype": "text/x-python",
   "name": "python",
   "nbconvert_exporter": "python",
   "pygments_lexer": "ipython3",
   "version": "3.6.3"
  },
  "nteract": {
   "version": "0.28.0"
  }
 },
 "nbformat": 4,
 "nbformat_minor": 5
}
